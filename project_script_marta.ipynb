{
 "cells": [
  {
   "cell_type": "code",
   "execution_count": 1,
   "id": "467672b7",
   "metadata": {},
   "outputs": [],
   "source": [
    "# Dependencies and Setup\n",
    "import pandas as pd\n",
    "import numpy as np\n",
    "import matplotlib.pyplot as plt\n",
    "from scipy.stats import linregress\n",
    "import scipy.stats as st"
   ]
  },
  {
   "cell_type": "code",
   "execution_count": 2,
   "id": "c98d3a61",
   "metadata": {},
   "outputs": [
    {
     "data": {
      "text/html": [
       "<div>\n",
       "<style scoped>\n",
       "    .dataframe tbody tr th:only-of-type {\n",
       "        vertical-align: middle;\n",
       "    }\n",
       "\n",
       "    .dataframe tbody tr th {\n",
       "        vertical-align: top;\n",
       "    }\n",
       "\n",
       "    .dataframe thead th {\n",
       "        text-align: right;\n",
       "    }\n",
       "</style>\n",
       "<table border=\"1\" class=\"dataframe\">\n",
       "  <thead>\n",
       "    <tr style=\"text-align: right;\">\n",
       "      <th></th>\n",
       "      <th>Unnamed: 0</th>\n",
       "      <th>key</th>\n",
       "      <th>fare_amount</th>\n",
       "      <th>pickup_datetime</th>\n",
       "      <th>pickup_longitude</th>\n",
       "      <th>pickup_latitude</th>\n",
       "      <th>dropoff_longitude</th>\n",
       "      <th>dropoff_latitude</th>\n",
       "      <th>passenger_count</th>\n",
       "    </tr>\n",
       "  </thead>\n",
       "  <tbody>\n",
       "    <tr>\n",
       "      <th>0</th>\n",
       "      <td>24238194</td>\n",
       "      <td>2015-05-07 19:52:06.0000003</td>\n",
       "      <td>7.5</td>\n",
       "      <td>2015-05-07 19:52:06 UTC</td>\n",
       "      <td>-73.999817</td>\n",
       "      <td>40.738354</td>\n",
       "      <td>-73.999512</td>\n",
       "      <td>40.723217</td>\n",
       "      <td>1</td>\n",
       "    </tr>\n",
       "    <tr>\n",
       "      <th>1</th>\n",
       "      <td>27835199</td>\n",
       "      <td>2009-07-17 20:04:56.0000002</td>\n",
       "      <td>7.7</td>\n",
       "      <td>2009-07-17 20:04:56 UTC</td>\n",
       "      <td>-73.994355</td>\n",
       "      <td>40.728225</td>\n",
       "      <td>-73.994710</td>\n",
       "      <td>40.750325</td>\n",
       "      <td>1</td>\n",
       "    </tr>\n",
       "    <tr>\n",
       "      <th>2</th>\n",
       "      <td>44984355</td>\n",
       "      <td>2009-08-24 21:45:00.00000061</td>\n",
       "      <td>12.9</td>\n",
       "      <td>2009-08-24 21:45:00 UTC</td>\n",
       "      <td>-74.005043</td>\n",
       "      <td>40.740770</td>\n",
       "      <td>-73.962565</td>\n",
       "      <td>40.772647</td>\n",
       "      <td>1</td>\n",
       "    </tr>\n",
       "    <tr>\n",
       "      <th>3</th>\n",
       "      <td>25894730</td>\n",
       "      <td>2009-06-26 08:22:21.0000001</td>\n",
       "      <td>5.3</td>\n",
       "      <td>2009-06-26 08:22:21 UTC</td>\n",
       "      <td>-73.976124</td>\n",
       "      <td>40.790844</td>\n",
       "      <td>-73.965316</td>\n",
       "      <td>40.803349</td>\n",
       "      <td>3</td>\n",
       "    </tr>\n",
       "    <tr>\n",
       "      <th>4</th>\n",
       "      <td>17610152</td>\n",
       "      <td>2014-08-28 17:47:00.000000188</td>\n",
       "      <td>16.0</td>\n",
       "      <td>2014-08-28 17:47:00 UTC</td>\n",
       "      <td>-73.925023</td>\n",
       "      <td>40.744085</td>\n",
       "      <td>-73.973082</td>\n",
       "      <td>40.761247</td>\n",
       "      <td>5</td>\n",
       "    </tr>\n",
       "  </tbody>\n",
       "</table>\n",
       "</div>"
      ],
      "text/plain": [
       "   Unnamed: 0                            key  fare_amount  \\\n",
       "0    24238194    2015-05-07 19:52:06.0000003          7.5   \n",
       "1    27835199    2009-07-17 20:04:56.0000002          7.7   \n",
       "2    44984355   2009-08-24 21:45:00.00000061         12.9   \n",
       "3    25894730    2009-06-26 08:22:21.0000001          5.3   \n",
       "4    17610152  2014-08-28 17:47:00.000000188         16.0   \n",
       "\n",
       "           pickup_datetime  pickup_longitude  pickup_latitude  \\\n",
       "0  2015-05-07 19:52:06 UTC        -73.999817        40.738354   \n",
       "1  2009-07-17 20:04:56 UTC        -73.994355        40.728225   \n",
       "2  2009-08-24 21:45:00 UTC        -74.005043        40.740770   \n",
       "3  2009-06-26 08:22:21 UTC        -73.976124        40.790844   \n",
       "4  2014-08-28 17:47:00 UTC        -73.925023        40.744085   \n",
       "\n",
       "   dropoff_longitude  dropoff_latitude  passenger_count  \n",
       "0         -73.999512         40.723217                1  \n",
       "1         -73.994710         40.750325                1  \n",
       "2         -73.962565         40.772647                1  \n",
       "3         -73.965316         40.803349                3  \n",
       "4         -73.973082         40.761247                5  "
      ]
     },
     "execution_count": 2,
     "metadata": {},
     "output_type": "execute_result"
    }
   ],
   "source": [
    "# Load the data\n",
    "uber_file = \"uber.csv\"\n",
    "# Read the Dataframe\n",
    "uber_file_df = pd.read_csv(uber_file) \n",
    "# show the dataframe\n",
    "uber_file_df.head()"
   ]
  },
  {
   "cell_type": "code",
   "execution_count": 3,
   "id": "f42efb9d",
   "metadata": {},
   "outputs": [
    {
     "data": {
      "text/html": [
       "<div>\n",
       "<style scoped>\n",
       "    .dataframe tbody tr th:only-of-type {\n",
       "        vertical-align: middle;\n",
       "    }\n",
       "\n",
       "    .dataframe tbody tr th {\n",
       "        vertical-align: top;\n",
       "    }\n",
       "\n",
       "    .dataframe thead th {\n",
       "        text-align: right;\n",
       "    }\n",
       "</style>\n",
       "<table border=\"1\" class=\"dataframe\">\n",
       "  <thead>\n",
       "    <tr style=\"text-align: right;\">\n",
       "      <th></th>\n",
       "      <th>id</th>\n",
       "      <th>key</th>\n",
       "      <th>fare_amount</th>\n",
       "      <th>pickup_datetime</th>\n",
       "      <th>pickup_longitude</th>\n",
       "      <th>pickup_latitude</th>\n",
       "      <th>dropoff_longitude</th>\n",
       "      <th>dropoff_latitude</th>\n",
       "      <th>passenger_count</th>\n",
       "    </tr>\n",
       "  </thead>\n",
       "  <tbody>\n",
       "    <tr>\n",
       "      <th>0</th>\n",
       "      <td>24238194</td>\n",
       "      <td>2015-05-07 19:52:06.0000003</td>\n",
       "      <td>7.5</td>\n",
       "      <td>2015-05-07 19:52:06 UTC</td>\n",
       "      <td>-73.999817</td>\n",
       "      <td>40.738354</td>\n",
       "      <td>-73.999512</td>\n",
       "      <td>40.723217</td>\n",
       "      <td>1</td>\n",
       "    </tr>\n",
       "    <tr>\n",
       "      <th>1</th>\n",
       "      <td>27835199</td>\n",
       "      <td>2009-07-17 20:04:56.0000002</td>\n",
       "      <td>7.7</td>\n",
       "      <td>2009-07-17 20:04:56 UTC</td>\n",
       "      <td>-73.994355</td>\n",
       "      <td>40.728225</td>\n",
       "      <td>-73.994710</td>\n",
       "      <td>40.750325</td>\n",
       "      <td>1</td>\n",
       "    </tr>\n",
       "    <tr>\n",
       "      <th>2</th>\n",
       "      <td>44984355</td>\n",
       "      <td>2009-08-24 21:45:00.00000061</td>\n",
       "      <td>12.9</td>\n",
       "      <td>2009-08-24 21:45:00 UTC</td>\n",
       "      <td>-74.005043</td>\n",
       "      <td>40.740770</td>\n",
       "      <td>-73.962565</td>\n",
       "      <td>40.772647</td>\n",
       "      <td>1</td>\n",
       "    </tr>\n",
       "    <tr>\n",
       "      <th>3</th>\n",
       "      <td>25894730</td>\n",
       "      <td>2009-06-26 08:22:21.0000001</td>\n",
       "      <td>5.3</td>\n",
       "      <td>2009-06-26 08:22:21 UTC</td>\n",
       "      <td>-73.976124</td>\n",
       "      <td>40.790844</td>\n",
       "      <td>-73.965316</td>\n",
       "      <td>40.803349</td>\n",
       "      <td>3</td>\n",
       "    </tr>\n",
       "    <tr>\n",
       "      <th>4</th>\n",
       "      <td>17610152</td>\n",
       "      <td>2014-08-28 17:47:00.000000188</td>\n",
       "      <td>16.0</td>\n",
       "      <td>2014-08-28 17:47:00 UTC</td>\n",
       "      <td>-73.925023</td>\n",
       "      <td>40.744085</td>\n",
       "      <td>-73.973082</td>\n",
       "      <td>40.761247</td>\n",
       "      <td>5</td>\n",
       "    </tr>\n",
       "  </tbody>\n",
       "</table>\n",
       "</div>"
      ],
      "text/plain": [
       "         id                            key  fare_amount  \\\n",
       "0  24238194    2015-05-07 19:52:06.0000003          7.5   \n",
       "1  27835199    2009-07-17 20:04:56.0000002          7.7   \n",
       "2  44984355   2009-08-24 21:45:00.00000061         12.9   \n",
       "3  25894730    2009-06-26 08:22:21.0000001          5.3   \n",
       "4  17610152  2014-08-28 17:47:00.000000188         16.0   \n",
       "\n",
       "           pickup_datetime  pickup_longitude  pickup_latitude  \\\n",
       "0  2015-05-07 19:52:06 UTC        -73.999817        40.738354   \n",
       "1  2009-07-17 20:04:56 UTC        -73.994355        40.728225   \n",
       "2  2009-08-24 21:45:00 UTC        -74.005043        40.740770   \n",
       "3  2009-06-26 08:22:21 UTC        -73.976124        40.790844   \n",
       "4  2014-08-28 17:47:00 UTC        -73.925023        40.744085   \n",
       "\n",
       "   dropoff_longitude  dropoff_latitude  passenger_count  \n",
       "0         -73.999512         40.723217                1  \n",
       "1         -73.994710         40.750325                1  \n",
       "2         -73.962565         40.772647                1  \n",
       "3         -73.965316         40.803349                3  \n",
       "4         -73.973082         40.761247                5  "
      ]
     },
     "execution_count": 3,
     "metadata": {},
     "output_type": "execute_result"
    }
   ],
   "source": [
    "# Rename the column\n",
    "uber_file_df.rename(columns = {uber_file_df.columns[0]:\"id\"}, inplace = True)\n",
    "uber_file_df.columns[0]\n",
    "# Display sample data\n",
    "uber_file_df.head()"
   ]
  },
  {
   "cell_type": "code",
   "execution_count": 4,
   "id": "fc5f4cea",
   "metadata": {},
   "outputs": [
    {
     "data": {
      "text/plain": [
       "(200000, 9)"
      ]
     },
     "execution_count": 4,
     "metadata": {},
     "output_type": "execute_result"
    }
   ],
   "source": [
    "# Checking the shape of data\n",
    "uber_file_df.shape"
   ]
  },
  {
   "cell_type": "code",
   "execution_count": 5,
   "id": "701a0be9",
   "metadata": {},
   "outputs": [],
   "source": [
    "# Delete column \"Key\"\n",
    "del uber_file_df[\"key\"]"
   ]
  },
  {
   "cell_type": "code",
   "execution_count": 6,
   "id": "681b3828",
   "metadata": {},
   "outputs": [
    {
     "data": {
      "text/html": [
       "<div>\n",
       "<style scoped>\n",
       "    .dataframe tbody tr th:only-of-type {\n",
       "        vertical-align: middle;\n",
       "    }\n",
       "\n",
       "    .dataframe tbody tr th {\n",
       "        vertical-align: top;\n",
       "    }\n",
       "\n",
       "    .dataframe thead th {\n",
       "        text-align: right;\n",
       "    }\n",
       "</style>\n",
       "<table border=\"1\" class=\"dataframe\">\n",
       "  <thead>\n",
       "    <tr style=\"text-align: right;\">\n",
       "      <th></th>\n",
       "      <th>id</th>\n",
       "      <th>fare_amount</th>\n",
       "      <th>pickup_datetime</th>\n",
       "      <th>pickup_longitude</th>\n",
       "      <th>pickup_latitude</th>\n",
       "      <th>dropoff_longitude</th>\n",
       "      <th>dropoff_latitude</th>\n",
       "      <th>passenger_count</th>\n",
       "    </tr>\n",
       "  </thead>\n",
       "  <tbody>\n",
       "    <tr>\n",
       "      <th>0</th>\n",
       "      <td>24238194</td>\n",
       "      <td>7.5</td>\n",
       "      <td>2015-05-07 19:52:06 UTC</td>\n",
       "      <td>-73.999817</td>\n",
       "      <td>40.738354</td>\n",
       "      <td>-73.999512</td>\n",
       "      <td>40.723217</td>\n",
       "      <td>1</td>\n",
       "    </tr>\n",
       "    <tr>\n",
       "      <th>1</th>\n",
       "      <td>27835199</td>\n",
       "      <td>7.7</td>\n",
       "      <td>2009-07-17 20:04:56 UTC</td>\n",
       "      <td>-73.994355</td>\n",
       "      <td>40.728225</td>\n",
       "      <td>-73.994710</td>\n",
       "      <td>40.750325</td>\n",
       "      <td>1</td>\n",
       "    </tr>\n",
       "    <tr>\n",
       "      <th>2</th>\n",
       "      <td>44984355</td>\n",
       "      <td>12.9</td>\n",
       "      <td>2009-08-24 21:45:00 UTC</td>\n",
       "      <td>-74.005043</td>\n",
       "      <td>40.740770</td>\n",
       "      <td>-73.962565</td>\n",
       "      <td>40.772647</td>\n",
       "      <td>1</td>\n",
       "    </tr>\n",
       "    <tr>\n",
       "      <th>3</th>\n",
       "      <td>25894730</td>\n",
       "      <td>5.3</td>\n",
       "      <td>2009-06-26 08:22:21 UTC</td>\n",
       "      <td>-73.976124</td>\n",
       "      <td>40.790844</td>\n",
       "      <td>-73.965316</td>\n",
       "      <td>40.803349</td>\n",
       "      <td>3</td>\n",
       "    </tr>\n",
       "    <tr>\n",
       "      <th>4</th>\n",
       "      <td>17610152</td>\n",
       "      <td>16.0</td>\n",
       "      <td>2014-08-28 17:47:00 UTC</td>\n",
       "      <td>-73.925023</td>\n",
       "      <td>40.744085</td>\n",
       "      <td>-73.973082</td>\n",
       "      <td>40.761247</td>\n",
       "      <td>5</td>\n",
       "    </tr>\n",
       "    <tr>\n",
       "      <th>5</th>\n",
       "      <td>44470845</td>\n",
       "      <td>4.9</td>\n",
       "      <td>2011-02-12 02:27:09 UTC</td>\n",
       "      <td>-73.969019</td>\n",
       "      <td>40.755910</td>\n",
       "      <td>-73.969019</td>\n",
       "      <td>40.755910</td>\n",
       "      <td>1</td>\n",
       "    </tr>\n",
       "    <tr>\n",
       "      <th>6</th>\n",
       "      <td>48725865</td>\n",
       "      <td>24.5</td>\n",
       "      <td>2014-10-12 07:04:00 UTC</td>\n",
       "      <td>-73.961447</td>\n",
       "      <td>40.693965</td>\n",
       "      <td>-73.871195</td>\n",
       "      <td>40.774297</td>\n",
       "      <td>5</td>\n",
       "    </tr>\n",
       "    <tr>\n",
       "      <th>8</th>\n",
       "      <td>15822268</td>\n",
       "      <td>9.7</td>\n",
       "      <td>2012-02-17 09:32:00 UTC</td>\n",
       "      <td>-73.975187</td>\n",
       "      <td>40.745767</td>\n",
       "      <td>-74.002720</td>\n",
       "      <td>40.743537</td>\n",
       "      <td>1</td>\n",
       "    </tr>\n",
       "    <tr>\n",
       "      <th>9</th>\n",
       "      <td>50611056</td>\n",
       "      <td>12.5</td>\n",
       "      <td>2012-03-29 19:06:00 UTC</td>\n",
       "      <td>-74.001065</td>\n",
       "      <td>40.741787</td>\n",
       "      <td>-73.963040</td>\n",
       "      <td>40.775012</td>\n",
       "      <td>1</td>\n",
       "    </tr>\n",
       "    <tr>\n",
       "      <th>10</th>\n",
       "      <td>2205147</td>\n",
       "      <td>6.5</td>\n",
       "      <td>2015-05-22 17:32:27 UTC</td>\n",
       "      <td>-73.974388</td>\n",
       "      <td>40.746952</td>\n",
       "      <td>-73.988586</td>\n",
       "      <td>40.729805</td>\n",
       "      <td>1</td>\n",
       "    </tr>\n",
       "    <tr>\n",
       "      <th>12</th>\n",
       "      <td>31892535</td>\n",
       "      <td>3.3</td>\n",
       "      <td>2011-05-17 14:03:00 UTC</td>\n",
       "      <td>-73.966378</td>\n",
       "      <td>40.804440</td>\n",
       "      <td>-73.965890</td>\n",
       "      <td>40.807133</td>\n",
       "      <td>5</td>\n",
       "    </tr>\n",
       "    <tr>\n",
       "      <th>13</th>\n",
       "      <td>13012786</td>\n",
       "      <td>10.9</td>\n",
       "      <td>2011-06-25 11:19:00 UTC</td>\n",
       "      <td>-73.953352</td>\n",
       "      <td>40.767382</td>\n",
       "      <td>-73.972510</td>\n",
       "      <td>40.796137</td>\n",
       "      <td>1</td>\n",
       "    </tr>\n",
       "    <tr>\n",
       "      <th>14</th>\n",
       "      <td>48411337</td>\n",
       "      <td>6.9</td>\n",
       "      <td>2010-04-06 22:20:27 UTC</td>\n",
       "      <td>-73.973370</td>\n",
       "      <td>40.755193</td>\n",
       "      <td>-73.978265</td>\n",
       "      <td>40.766375</td>\n",
       "      <td>1</td>\n",
       "    </tr>\n",
       "    <tr>\n",
       "      <th>15</th>\n",
       "      <td>46272151</td>\n",
       "      <td>9.7</td>\n",
       "      <td>2012-02-21 09:33:00 UTC</td>\n",
       "      <td>-73.990718</td>\n",
       "      <td>40.751920</td>\n",
       "      <td>-73.973053</td>\n",
       "      <td>40.744230</td>\n",
       "      <td>2</td>\n",
       "    </tr>\n",
       "    <tr>\n",
       "      <th>16</th>\n",
       "      <td>11875730</td>\n",
       "      <td>4.9</td>\n",
       "      <td>2011-09-01 09:21:40 UTC</td>\n",
       "      <td>-73.988908</td>\n",
       "      <td>40.756982</td>\n",
       "      <td>-73.981246</td>\n",
       "      <td>40.760050</td>\n",
       "      <td>1</td>\n",
       "    </tr>\n",
       "  </tbody>\n",
       "</table>\n",
       "</div>"
      ],
      "text/plain": [
       "          id  fare_amount          pickup_datetime  pickup_longitude  \\\n",
       "0   24238194          7.5  2015-05-07 19:52:06 UTC        -73.999817   \n",
       "1   27835199          7.7  2009-07-17 20:04:56 UTC        -73.994355   \n",
       "2   44984355         12.9  2009-08-24 21:45:00 UTC        -74.005043   \n",
       "3   25894730          5.3  2009-06-26 08:22:21 UTC        -73.976124   \n",
       "4   17610152         16.0  2014-08-28 17:47:00 UTC        -73.925023   \n",
       "5   44470845          4.9  2011-02-12 02:27:09 UTC        -73.969019   \n",
       "6   48725865         24.5  2014-10-12 07:04:00 UTC        -73.961447   \n",
       "8   15822268          9.7  2012-02-17 09:32:00 UTC        -73.975187   \n",
       "9   50611056         12.5  2012-03-29 19:06:00 UTC        -74.001065   \n",
       "10   2205147          6.5  2015-05-22 17:32:27 UTC        -73.974388   \n",
       "12  31892535          3.3  2011-05-17 14:03:00 UTC        -73.966378   \n",
       "13  13012786         10.9  2011-06-25 11:19:00 UTC        -73.953352   \n",
       "14  48411337          6.9  2010-04-06 22:20:27 UTC        -73.973370   \n",
       "15  46272151          9.7  2012-02-21 09:33:00 UTC        -73.990718   \n",
       "16  11875730          4.9  2011-09-01 09:21:40 UTC        -73.988908   \n",
       "\n",
       "    pickup_latitude  dropoff_longitude  dropoff_latitude  passenger_count  \n",
       "0         40.738354         -73.999512         40.723217                1  \n",
       "1         40.728225         -73.994710         40.750325                1  \n",
       "2         40.740770         -73.962565         40.772647                1  \n",
       "3         40.790844         -73.965316         40.803349                3  \n",
       "4         40.744085         -73.973082         40.761247                5  \n",
       "5         40.755910         -73.969019         40.755910                1  \n",
       "6         40.693965         -73.871195         40.774297                5  \n",
       "8         40.745767         -74.002720         40.743537                1  \n",
       "9         40.741787         -73.963040         40.775012                1  \n",
       "10        40.746952         -73.988586         40.729805                1  \n",
       "12        40.804440         -73.965890         40.807133                5  \n",
       "13        40.767382         -73.972510         40.796137                1  \n",
       "14        40.755193         -73.978265         40.766375                1  \n",
       "15        40.751920         -73.973053         40.744230                2  \n",
       "16        40.756982         -73.981246         40.760050                1  "
      ]
     },
     "execution_count": 6,
     "metadata": {},
     "output_type": "execute_result"
    }
   ],
   "source": [
    "# Delete rows  with 0 longitude and longitude value\n",
    "\n",
    "df2 = uber_file_df[ (uber_file_df['pickup_longitude'] == 0) & (uber_file_df['pickup_latitude'] == 0) & (uber_file_df['dropoff_longitude'] == 0) & (uber_file_df['dropoff_latitude'] == 0)].index\n",
    "uber_file_df.drop(df2 , inplace=True)\n",
    "\n",
    "\n",
    "uber_file_df.head(15)"
   ]
  },
  {
   "cell_type": "code",
   "execution_count": 7,
   "id": "4c77f6b2",
   "metadata": {},
   "outputs": [
    {
     "data": {
      "text/plain": [
       "(196412, 8)"
      ]
     },
     "execution_count": 7,
     "metadata": {},
     "output_type": "execute_result"
    }
   ],
   "source": [
    "# Drop N/A values in the dataset\n",
    "uber_file_df = uber_file_df.dropna(how='any')\n",
    "# Checking the shape of data after changes\n",
    "uber_file_df.shape"
   ]
  },
  {
   "cell_type": "code",
   "execution_count": 8,
   "id": "9b869496",
   "metadata": {},
   "outputs": [],
   "source": [
    "# Delete rows  with 0 passengers and fare amount value\n",
    "uber_file_df.drop(uber_file_df[uber_file_df['passenger_count'] == 0].index, inplace = True)\n",
    "uber_file_df.drop(uber_file_df[uber_file_df['passenger_count'] == 208].index, inplace = True)\n",
    "uber_file_df.drop(uber_file_df[uber_file_df['fare_amount'] < 1].index, inplace = True)"
   ]
  },
  {
   "cell_type": "code",
   "execution_count": 9,
   "id": "74ae4196",
   "metadata": {},
   "outputs": [
    {
     "data": {
      "text/plain": [
       "(195696, 8)"
      ]
     },
     "execution_count": 9,
     "metadata": {},
     "output_type": "execute_result"
    }
   ],
   "source": [
    "# Checking the shape of data after changes\n",
    "uber_file_df.shape"
   ]
  },
  {
   "cell_type": "code",
   "execution_count": 10,
   "id": "80a13ff8",
   "metadata": {},
   "outputs": [],
   "source": [
    "# Creating new columns Month Date Day Hour Day of week\n",
    "uber_file_df['pickup_datetime'] = pd.to_datetime(uber_file_df['pickup_datetime'])\n",
    "\n",
    "uber_file_df['Year'] = uber_file_df['pickup_datetime'].apply(lambda time: time.year)\n",
    "uber_file_df['Date'] = uber_file_df['pickup_datetime'].apply(lambda time: time.day)\n",
    "uber_file_df['Hour'] = uber_file_df['pickup_datetime'].apply(lambda time: time.hour)\n",
    "uber_file_df['Month'] = uber_file_df['pickup_datetime'].apply(lambda time: time.month)\n",
    "uber_file_df['Day of Week'] = uber_file_df['pickup_datetime'].apply(lambda time: time.dayofweek)\n",
    "uber_file_df['Day of Week_number'] = uber_file_df['pickup_datetime'].apply(lambda time: time.dayofweek)\n",
    "uber_file_df['counter'] = 1\n",
    "\n",
    "days = {0:'Mon',1:'Tue',2:'Wed',3:'Thu',4:'Fri',5:'Sat',6:'Sun'}\n",
    "uber_file_df['Day of Week'] = uber_file_df['Day of Week'].map(days)"
   ]
  },
  {
   "cell_type": "code",
   "execution_count": 11,
   "id": "5818e2ff",
   "metadata": {},
   "outputs": [
    {
     "data": {
      "text/plain": [
       "2012    31465\n",
       "2011    30825\n",
       "2013    30691\n",
       "2009    30187\n",
       "2010    29555\n",
       "2014    29399\n",
       "Name: Year, dtype: int64"
      ]
     },
     "execution_count": 11,
     "metadata": {},
     "output_type": "execute_result"
    }
   ],
   "source": [
    "uber_file_df.drop(uber_file_df[uber_file_df['Year'] == 2015].index, inplace = True)\n",
    "year_counts = uber_file_df[\"Year\"].value_counts()\n",
    "year_counts"
   ]
  },
  {
   "cell_type": "code",
   "execution_count": 12,
   "id": "6085176e",
   "metadata": {},
   "outputs": [],
   "source": [
    "# Calculatin the distance between the pickup and drop co-ordinates using the Haversine formual for accuracy\n",
    "def haversine_np(lon1, lat1, lon2, lat2):\n",
    "    \n",
    "    lon1, lat1, lon2, lat2 = map(np.radians, [lon1, lat1, lon2, lat2])\n",
    "\n",
    "    dlon = lon2 - lon1\n",
    "    dlat = lat2 - lat1\n",
    "\n",
    "    a = np.sin(dlat/2.0)**2 + np.cos(lat1) * np.cos(lat2) * np.sin(dlon/2.0)**2\n",
    "\n",
    "    c = 2 * np.arcsin(np.sqrt(a))\n",
    "    km = 6367 * c\n",
    "    return km"
   ]
  },
  {
   "cell_type": "code",
   "execution_count": 13,
   "id": "efe75af8",
   "metadata": {},
   "outputs": [],
   "source": [
    "uber_file_df['Distance']= haversine_np(uber_file_df['pickup_longitude'],uber_file_df['pickup_latitude'],\n",
    "                             uber_file_df['dropoff_longitude'],uber_file_df['dropoff_latitude'])\n",
    "# Rounding the values for better analysis\n",
    "uber_file_df['Distance'] = uber_file_df['Distance'].astype(float).round(1)"
   ]
  },
  {
   "cell_type": "code",
   "execution_count": 14,
   "id": "f7896e2d",
   "metadata": {},
   "outputs": [
    {
     "data": {
      "text/html": [
       "<div>\n",
       "<style scoped>\n",
       "    .dataframe tbody tr th:only-of-type {\n",
       "        vertical-align: middle;\n",
       "    }\n",
       "\n",
       "    .dataframe tbody tr th {\n",
       "        vertical-align: top;\n",
       "    }\n",
       "\n",
       "    .dataframe thead th {\n",
       "        text-align: right;\n",
       "    }\n",
       "</style>\n",
       "<table border=\"1\" class=\"dataframe\">\n",
       "  <thead>\n",
       "    <tr style=\"text-align: right;\">\n",
       "      <th></th>\n",
       "      <th>id</th>\n",
       "      <th>fare_amount</th>\n",
       "      <th>pickup_datetime</th>\n",
       "      <th>pickup_longitude</th>\n",
       "      <th>pickup_latitude</th>\n",
       "      <th>dropoff_longitude</th>\n",
       "      <th>dropoff_latitude</th>\n",
       "      <th>passenger_count</th>\n",
       "      <th>Year</th>\n",
       "      <th>Date</th>\n",
       "      <th>Hour</th>\n",
       "      <th>Month</th>\n",
       "      <th>Day of Week</th>\n",
       "      <th>Day of Week_number</th>\n",
       "      <th>counter</th>\n",
       "      <th>Distance</th>\n",
       "    </tr>\n",
       "  </thead>\n",
       "  <tbody>\n",
       "    <tr>\n",
       "      <th>1</th>\n",
       "      <td>27835199</td>\n",
       "      <td>7.7</td>\n",
       "      <td>2009-07-17 20:04:56+00:00</td>\n",
       "      <td>-73.994355</td>\n",
       "      <td>40.728225</td>\n",
       "      <td>-73.994710</td>\n",
       "      <td>40.750325</td>\n",
       "      <td>1</td>\n",
       "      <td>2009</td>\n",
       "      <td>17</td>\n",
       "      <td>20</td>\n",
       "      <td>7</td>\n",
       "      <td>Fri</td>\n",
       "      <td>4</td>\n",
       "      <td>1</td>\n",
       "      <td>2.5</td>\n",
       "    </tr>\n",
       "    <tr>\n",
       "      <th>2</th>\n",
       "      <td>44984355</td>\n",
       "      <td>12.9</td>\n",
       "      <td>2009-08-24 21:45:00+00:00</td>\n",
       "      <td>-74.005043</td>\n",
       "      <td>40.740770</td>\n",
       "      <td>-73.962565</td>\n",
       "      <td>40.772647</td>\n",
       "      <td>1</td>\n",
       "      <td>2009</td>\n",
       "      <td>24</td>\n",
       "      <td>21</td>\n",
       "      <td>8</td>\n",
       "      <td>Mon</td>\n",
       "      <td>0</td>\n",
       "      <td>1</td>\n",
       "      <td>5.0</td>\n",
       "    </tr>\n",
       "    <tr>\n",
       "      <th>3</th>\n",
       "      <td>25894730</td>\n",
       "      <td>5.3</td>\n",
       "      <td>2009-06-26 08:22:21+00:00</td>\n",
       "      <td>-73.976124</td>\n",
       "      <td>40.790844</td>\n",
       "      <td>-73.965316</td>\n",
       "      <td>40.803349</td>\n",
       "      <td>3</td>\n",
       "      <td>2009</td>\n",
       "      <td>26</td>\n",
       "      <td>8</td>\n",
       "      <td>6</td>\n",
       "      <td>Fri</td>\n",
       "      <td>4</td>\n",
       "      <td>1</td>\n",
       "      <td>1.7</td>\n",
       "    </tr>\n",
       "    <tr>\n",
       "      <th>4</th>\n",
       "      <td>17610152</td>\n",
       "      <td>16.0</td>\n",
       "      <td>2014-08-28 17:47:00+00:00</td>\n",
       "      <td>-73.925023</td>\n",
       "      <td>40.744085</td>\n",
       "      <td>-73.973082</td>\n",
       "      <td>40.761247</td>\n",
       "      <td>5</td>\n",
       "      <td>2014</td>\n",
       "      <td>28</td>\n",
       "      <td>17</td>\n",
       "      <td>8</td>\n",
       "      <td>Thu</td>\n",
       "      <td>3</td>\n",
       "      <td>1</td>\n",
       "      <td>4.5</td>\n",
       "    </tr>\n",
       "    <tr>\n",
       "      <th>5</th>\n",
       "      <td>44470845</td>\n",
       "      <td>4.9</td>\n",
       "      <td>2011-02-12 02:27:09+00:00</td>\n",
       "      <td>-73.969019</td>\n",
       "      <td>40.755910</td>\n",
       "      <td>-73.969019</td>\n",
       "      <td>40.755910</td>\n",
       "      <td>1</td>\n",
       "      <td>2011</td>\n",
       "      <td>12</td>\n",
       "      <td>2</td>\n",
       "      <td>2</td>\n",
       "      <td>Sat</td>\n",
       "      <td>5</td>\n",
       "      <td>1</td>\n",
       "      <td>0.0</td>\n",
       "    </tr>\n",
       "  </tbody>\n",
       "</table>\n",
       "</div>"
      ],
      "text/plain": [
       "         id  fare_amount           pickup_datetime  pickup_longitude  \\\n",
       "1  27835199          7.7 2009-07-17 20:04:56+00:00        -73.994355   \n",
       "2  44984355         12.9 2009-08-24 21:45:00+00:00        -74.005043   \n",
       "3  25894730          5.3 2009-06-26 08:22:21+00:00        -73.976124   \n",
       "4  17610152         16.0 2014-08-28 17:47:00+00:00        -73.925023   \n",
       "5  44470845          4.9 2011-02-12 02:27:09+00:00        -73.969019   \n",
       "\n",
       "   pickup_latitude  dropoff_longitude  dropoff_latitude  passenger_count  \\\n",
       "1        40.728225         -73.994710         40.750325                1   \n",
       "2        40.740770         -73.962565         40.772647                1   \n",
       "3        40.790844         -73.965316         40.803349                3   \n",
       "4        40.744085         -73.973082         40.761247                5   \n",
       "5        40.755910         -73.969019         40.755910                1   \n",
       "\n",
       "   Year  Date  Hour  Month Day of Week  Day of Week_number  counter  Distance  \n",
       "1  2009    17    20      7         Fri                   4        1       2.5  \n",
       "2  2009    24    21      8         Mon                   0        1       5.0  \n",
       "3  2009    26     8      6         Fri                   4        1       1.7  \n",
       "4  2014    28    17      8         Thu                   3        1       4.5  \n",
       "5  2011    12     2      2         Sat                   5        1       0.0  "
      ]
     },
     "execution_count": 14,
     "metadata": {},
     "output_type": "execute_result"
    }
   ],
   "source": [
    "uber_file_df.head()\n"
   ]
  },
  {
   "cell_type": "code",
   "execution_count": 15,
   "id": "9281d7b7",
   "metadata": {},
   "outputs": [
    {
     "data": {
      "text/plain": [
       "Text(0, 0.5, 'fare_amount')"
      ]
     },
     "execution_count": 15,
     "metadata": {},
     "output_type": "execute_result"
    },
    {
     "data": {
      "image/png": "[encoded data removed]",
      "text/plain": [
       "<Figure size 432x288 with 1 Axes>"
      ]
     },
     "metadata": {
      "needs_background": "light"
     },
     "output_type": "display_data"
    }
   ],
   "source": [
    "# Create a scater plot Distance vs Fare Amount\n",
    "plt.scatter(uber_file_df['Distance'], uber_file_df['fare_amount'])\n",
    "plt.title('Distance Versus Fare Amount')\n",
    "plt.xlabel(\"Distance\")\n",
    "plt.ylabel(\"fare_amount\")"
   ]
  },
  {
   "cell_type": "markdown",
   "id": "761d264c",
   "metadata": {},
   "source": [
    "Scatter plot shows trips with distances greater than 100km are outliers, so we should to remove them. Probably  the lat & lon entered were incorrect in such trips.\n",
    "Also is necessary to remove trips with 0 distance travelled and rows with mismatched fair amount & distance travelled."
   ]
  },
  {
   "cell_type": "code",
   "execution_count": 16,
   "id": "3002152a",
   "metadata": {},
   "outputs": [],
   "source": [
    "# Removing rows\n",
    "uber_file_df.drop(uber_file_df[uber_file_df['Distance'] > 100].index, inplace = True)\n",
    "uber_file_df.drop(uber_file_df[uber_file_df['Distance'] == 0].index, inplace = True)"
   ]
  },
  {
   "cell_type": "code",
   "execution_count": 17,
   "id": "b3bc76ac",
   "metadata": {},
   "outputs": [],
   "source": [
    "uber_file_df.drop(uber_file_df[(uber_file_df['fare_amount']>100) & (uber_file_df['Distance']<1)].index, inplace = True )"
   ]
  },
  {
   "cell_type": "code",
   "execution_count": 18,
   "id": "f2945ed5",
   "metadata": {},
   "outputs": [
    {
     "data": {
      "text/plain": [
       "(178914, 16)"
      ]
     },
     "execution_count": 18,
     "metadata": {},
     "output_type": "execute_result"
    }
   ],
   "source": [
    "# Checking the shape of data after changes\n",
    "uber_file_df.shape"
   ]
  },
  {
   "cell_type": "code",
   "execution_count": 19,
   "id": "61e00640",
   "metadata": {},
   "outputs": [
    {
     "data": {
      "text/plain": [
       "Text(0, 0.5, 'fare_amount')"
      ]
     },
     "execution_count": 19,
     "metadata": {},
     "output_type": "execute_result"
    },
    {
     "data": {
      "image/png": "[encoded data removed]",
      "text/plain": [
       "<Figure size 432x288 with 1 Axes>"
      ]
     },
     "metadata": {
      "needs_background": "light"
     },
     "output_type": "display_data"
    }
   ],
   "source": [
    "# Create a scater plot Distance vs Fare Amount after changes done on data frame\n",
    "plt.scatter(uber_file_df['Distance'], uber_file_df['fare_amount'])\n",
    "plt.title('Distance Versus Fare Amount')\n",
    "plt.xlabel(\"Distance\")\n",
    "plt.ylabel(\"fare_amount\")"
   ]
  },
  {
   "cell_type": "markdown",
   "id": "f26b43db",
   "metadata": {},
   "source": [
    "After the changes the scatter plot looks more suitable. We can see that most of the fares are in distance beetwen 1 km - 40 km. "
   ]
  },
  {
   "cell_type": "code",
   "execution_count": 20,
   "id": "26d65f83",
   "metadata": {},
   "outputs": [
    {
     "name": "stdout",
     "output_type": "stream",
     "text": [
      "Total fares number per year: \n",
      "[2009, 2010, 2011, 2012, 2013, 2014] [29575, 28991, 30207, 30846, 30300, 28995]\n"
     ]
    },
    {
     "data": {
      "text/plain": [
       "Text(0.5, 1.0, 'Total fares number per year')"
      ]
     },
     "execution_count": 20,
     "metadata": {},
     "output_type": "execute_result"
    },
    {
     "data": {
      "image/png": "[encoded data removed]",
      "text/plain": [
       "<Figure size 432x288 with 1 Axes>"
      ]
     },
     "metadata": {
      "needs_background": "light"
     },
     "output_type": "display_data"
    }
   ],
   "source": [
    "# Calculate total  fares number per year \n",
    "number_of_fares = []\n",
    "\n",
    "year = [2009, 2010, 2011, 2012, 2013, 2014]\n",
    "\n",
    "colors = ['blue', 'orange', 'red', 'yellow', 'green', 'purple']\n",
    "for i in range(2009, 2015):\n",
    "    x = uber_file_df.loc[uber_file_df['Year'] == i, 'counter'].sum()\n",
    "    number_of_fares .append(x)\n",
    "\n",
    "print(\"Total fares number per year: \")\n",
    "print(year, number_of_fares )\n",
    "\n",
    "# Create bar chart and  set the xlabel and ylabel\n",
    "\n",
    "plt.bar(year, number_of_fares , color=colors)\n",
    "plt.xlabel(\"Year\")\n",
    "plt.ylabel(\"Fares number\")\n",
    "plt.title(\"Total fares number per year\")"
   ]
  },
  {
   "cell_type": "markdown",
   "id": "8ab92fa2",
   "metadata": {},
   "source": [
    "The total fares number per year are similar each year. \n",
    "The biggest number of fares was in 2012. \n",
    "The smallest number is in 2015. This could be cause by not full year data provided in 2015. \n"
   ]
  },
  {
   "cell_type": "code",
   "execution_count": 21,
   "id": "199f6f6b",
   "metadata": {},
   "outputs": [
    {
     "name": "stdout",
     "output_type": "stream",
     "text": [
      "Total fares number per Month: \n",
      "['Jan', 'Feb', 'Mar', 'Apr', 'May', 'Jun', 'Jul', 'Aug', 'Sep', 'Oct', 'Nov', 'Dec'] [29575, 28991, 30207, 30846, 30300, 28995]\n"
     ]
    },
    {
     "data": {
      "text/plain": [
       "Text(0.5, 1.0, 'Total fares number per Month')"
      ]
     },
     "execution_count": 21,
     "metadata": {},
     "output_type": "execute_result"
    },
    {
     "data": {
      "image/png": "[encoded data removed]",
      "text/plain": [
       "<Figure size 432x288 with 1 Axes>"
      ]
     },
     "metadata": {
      "needs_background": "light"
     },
     "output_type": "display_data"
    }
   ],
   "source": [
    "# Calculate total  fares number  per month\n",
    "no_of_fares = []\n",
    "month = ['Jan', 'Feb', 'Mar', 'Apr', 'May', 'Jun', 'Jul', 'Aug', 'Sep', 'Oct', 'Nov', 'Dec']\n",
    "\n",
    "colors = ['red', 'orange', 'green', 'blue', 'yellow',\n",
    "          'purple', 'brown', 'grey', 'pink', 'black']\n",
    "\n",
    "for i in range(1, 13):\n",
    "    x = uber_file_df.loc[uber_file_df['Month'] == i, 'counter'].sum()\n",
    "    no_of_fares.append(x)\n",
    "\n",
    "print(\"Number of trips per Month: \")\n",
    "print(month, number_of_fares )\n",
    "\n",
    "# Create bar chart and  set the xlabel and ylabel\n",
    "\n",
    "plt.bar(month, no_of_fares, color=colors)\n",
    "plt.xlabel(\"Month\")\n",
    "plt.ylabel(\"Fares number\")\n",
    "plt.title(\"Total fares number per Month\")"
   ]
  },
  {
   "cell_type": "markdown",
   "id": "9ee9f39d",
   "metadata": {},
   "source": [
    "The smallest total of fares per month is in July and August. \n",
    "Probaly this is because of summer holiday and people are going away from the city. \n",
    "Also the weather is very good so probably people prefer to walk.\n",
    "The biggest number are beetwen March and May. \n",
    "This can suggest that when Spring starts people are going out more than in Winter time, but the weather is still not so warm like in the summer so people booking uber. "
   ]
  },
  {
   "cell_type": "code",
   "execution_count": 22,
   "id": "1099f5c2",
   "metadata": {},
   "outputs": [
    {
     "name": "stdout",
     "output_type": "stream",
     "text": [
      "Total fares number by Days: \n",
      "['Mon', 'Tue', 'Wed', 'Thu', 'Fri', 'Sat', 'Sun'] [22541, 25186, 26040, 26929, 27635, 26997, 23586]\n"
     ]
    },
    {
     "data": {
      "text/plain": [
       "Text(0.5, 1.0, 'Total fares number by day')"
      ]
     },
     "execution_count": 22,
     "metadata": {},
     "output_type": "execute_result"
    },
    {
     "data": {
      "image/png": "[encoded data removed]",
      "text/plain": [
       "<Figure size 432x288 with 1 Axes>"
      ]
     },
     "metadata": {
      "needs_background": "light"
     },
     "output_type": "display_data"
    }
   ],
   "source": [
    "# Calculate total  fares number  per day\n",
    "num_of_fares = []\n",
    "day = ['Mon', 'Tue', 'Wed', 'Thu', 'Fri', 'Sat', 'Sun']\n",
    "\n",
    "colors = ['red', 'yellow', 'green', 'blue', 'orange',\n",
    "          'brown', 'purple']\n",
    "\n",
    "for i in range(0, 7):\n",
    "    x = uber_file_df.loc[uber_file_df['Day of Week_number'] == i, 'counter'].sum()\n",
    "    num_of_fares.append(x)\n",
    "\n",
    "print(\"Total fares number by Days: \")\n",
    "print(day, num_of_fares)\n",
    "\n",
    "# Create bar chart and  set the xlabel and ylabel\n",
    "\n",
    "plt.bar(day, num_of_fares, color=colors)\n",
    "plt.xlabel(\"Day\")\n",
    "plt.ylabel(\"Fares number\")\n",
    "plt.title(\"Total fares number by day\")\n"
   ]
  },
  {
   "cell_type": "markdown",
   "id": "2b9d5856",
   "metadata": {},
   "source": [
    "The most busy days are Fridays and Saturdays. \n",
    "This suggest that people choose to book uber more on weekends when going out than on others weekdays."
   ]
  },
  {
   "cell_type": "code",
   "execution_count": 23,
   "id": "0ecaa878",
   "metadata": {},
   "outputs": [
    {
     "name": "stdout",
     "output_type": "stream",
     "text": [
      "Total fares number per pick up hour: \n",
      "[0, 1, 2, 3, 4, 5, 6, 7, 8, 9, 10, 11, 12, 13, 14, 15, 16, 17, 18, 19, 20, 21, 22, 23] [7020, 5285, 3976, 2923, 2114, 1728, 3640, 6468, 8162, 8345, 8061, 8381, 8859, 8949, 8755, 8602, 7364, 8752, 10840, 11256, 10578, 10214, 9899, 8743]\n"
     ]
    },
    {
     "data": {
      "text/plain": [
       "Text(0.5, 1.0, 'Total fares number per pick up hour')"
      ]
     },
     "execution_count": 23,
     "metadata": {},
     "output_type": "execute_result"
    },
    {
     "data": {
      "image/png": "[encoded data removed]",
      "text/plain": [
       "<Figure size 432x288 with 1 Axes>"
      ]
     },
     "metadata": {
      "needs_background": "light"
     },
     "output_type": "display_data"
    }
   ],
   "source": [
    "# Calculate total  fares number per pick up hour (00:00 - 23:00) \n",
    "number_of_fares = []\n",
    "\n",
    "hour = [0, 1, 2, 3, 4, 5, 6, 7, 8, 9, 10, 11, 12, 13, 14, 15, 16, 17, 18, 19, 20, 21, 22, 23]\n",
    "\n",
    "colors = ['blue', 'orange', 'red', 'yellow', 'green', 'purple', 'brown', 'blue', 'orange', 'red', 'yellow', 'green', 'purple', 'brown', 'blue', 'orange', 'red', 'yellow', 'green', 'purple', 'brown', 'blue', 'orange', 'red']\n",
    "for i in range(0, 24):\n",
    "    x = uber_file_df.loc[uber_file_df['Hour'] == i, 'counter'].sum()\n",
    "    number_of_fares .append(x)\n",
    "\n",
    "print(\"Total fares number per pick up hour: \")\n",
    "print(hour, number_of_fares )\n",
    "\n",
    "# Create bar chart and  set the xlabel and ylabel\n",
    "\n",
    "plt.bar(hour, number_of_fares , color=colors)\n",
    "plt.xlabel(\"Hour of pick up\")\n",
    "plt.ylabel(\"Fares number\")\n",
    "plt.title(\"Total fares number per pick up hour\")"
   ]
  },
  {
   "cell_type": "markdown",
   "id": "faede67c",
   "metadata": {},
   "source": [
    "From the chart above we see that the most busy pick up hours are evening hours between 18:00 - 22:00."
   ]
  },
  {
   "cell_type": "code",
   "execution_count": 24,
   "id": "621db342",
   "metadata": {},
   "outputs": [
    {
     "name": "stdout",
     "output_type": "stream",
     "text": [
      "Total fares number by passengers: \n",
      "['1', '2', '3', '4', '5', '6'] [123995, 26594, 8028, 3867, 12780, 3650]\n"
     ]
    },
    {
     "data": {
      "text/plain": [
       "Text(0.5, 1.0, 'Total fares number per number of passengers')"
      ]
     },
     "execution_count": 24,
     "metadata": {},
     "output_type": "execute_result"
    },
    {
     "data": {
      "image/png": "[encoded data removed]",
      "text/plain": [
       "<Figure size 432x288 with 1 Axes>"
      ]
     },
     "metadata": {
      "needs_background": "light"
     },
     "output_type": "display_data"
    }
   ],
   "source": [
    "# Calculate total  fares number  per number of passengers\n",
    "num_of_fares = []\n",
    "passengers = ['1', '2', '3', '4', '5', '6']\n",
    "\n",
    "colors = ['red', 'yellow', 'green', 'blue', 'orange',\n",
    "         'purple']\n",
    "\n",
    "for i in range(1, 7):\n",
    "    x = uber_file_df.loc[uber_file_df['passenger_count'] == i, 'counter'].sum()\n",
    "    num_of_fares.append(x)\n",
    "\n",
    "print(\"Total fares number by passengers: \")\n",
    "print(passengers, num_of_fares)\n",
    "\n",
    "# Create bar chart and  set the xlabel and ylabel\n",
    "\n",
    "plt.bar(passengers, num_of_fares, color=colors)\n",
    "plt.xlabel(\"Number of passengers\")\n",
    "plt.ylabel(\"Fares number\")\n",
    "plt.title(\"Total fares number per number of passengers\")"
   ]
  },
  {
   "cell_type": "markdown",
   "id": "623897fb",
   "metadata": {},
   "source": [
    "The above charts show that for most trips is one passenger. The smallest number of trips are trips with 4 or 6 passengers. "
   ]
  },
  {
   "cell_type": "code",
   "execution_count": 35,
   "id": "8e77e19d",
   "metadata": {},
   "outputs": [
    {
     "data": {
      "text/html": [
       "<div>\n",
       "<style scoped>\n",
       "    .dataframe tbody tr th:only-of-type {\n",
       "        vertical-align: middle;\n",
       "    }\n",
       "\n",
       "    .dataframe tbody tr th {\n",
       "        vertical-align: top;\n",
       "    }\n",
       "\n",
       "    .dataframe thead th {\n",
       "        text-align: right;\n",
       "    }\n",
       "</style>\n",
       "<table border=\"1\" class=\"dataframe\">\n",
       "  <thead>\n",
       "    <tr style=\"text-align: right;\">\n",
       "      <th></th>\n",
       "      <th>index</th>\n",
       "      <th>Year</th>\n",
       "      <th>Month</th>\n",
       "      <th>no_of_trips</th>\n",
       "      <th>Average_fair</th>\n",
       "      <th>Total_fair</th>\n",
       "      <th>Average_passenger</th>\n",
       "      <th>Avg_distance</th>\n",
       "      <th>avg_no_of_trips</th>\n",
       "      <th>month_year</th>\n",
       "    </tr>\n",
       "  </thead>\n",
       "  <tbody>\n",
       "    <tr>\n",
       "      <th>0</th>\n",
       "      <td>0</td>\n",
       "      <td>2009</td>\n",
       "      <td>1</td>\n",
       "      <td>2462</td>\n",
       "      <td>9.555118</td>\n",
       "      <td>23524.70</td>\n",
       "      <td>1.662063</td>\n",
       "      <td>3.122949</td>\n",
       "      <td>82.066667</td>\n",
       "      <td>1, 2009</td>\n",
       "    </tr>\n",
       "    <tr>\n",
       "      <th>1</th>\n",
       "      <td>1</td>\n",
       "      <td>2009</td>\n",
       "      <td>2</td>\n",
       "      <td>2228</td>\n",
       "      <td>9.639856</td>\n",
       "      <td>21477.60</td>\n",
       "      <td>1.687612</td>\n",
       "      <td>3.119524</td>\n",
       "      <td>74.266667</td>\n",
       "      <td>2, 2009</td>\n",
       "    </tr>\n",
       "    <tr>\n",
       "      <th>2</th>\n",
       "      <td>2</td>\n",
       "      <td>2009</td>\n",
       "      <td>3</td>\n",
       "      <td>2627</td>\n",
       "      <td>10.085097</td>\n",
       "      <td>26493.55</td>\n",
       "      <td>1.702322</td>\n",
       "      <td>3.252189</td>\n",
       "      <td>87.566667</td>\n",
       "      <td>3, 2009</td>\n",
       "    </tr>\n",
       "    <tr>\n",
       "      <th>3</th>\n",
       "      <td>3</td>\n",
       "      <td>2009</td>\n",
       "      <td>4</td>\n",
       "      <td>2496</td>\n",
       "      <td>10.071314</td>\n",
       "      <td>25138.00</td>\n",
       "      <td>1.644631</td>\n",
       "      <td>3.306771</td>\n",
       "      <td>83.200000</td>\n",
       "      <td>4, 2009</td>\n",
       "    </tr>\n",
       "    <tr>\n",
       "      <th>4</th>\n",
       "      <td>4</td>\n",
       "      <td>2009</td>\n",
       "      <td>5</td>\n",
       "      <td>2578</td>\n",
       "      <td>10.021703</td>\n",
       "      <td>25835.95</td>\n",
       "      <td>1.671451</td>\n",
       "      <td>3.314934</td>\n",
       "      <td>85.933333</td>\n",
       "      <td>5, 2009</td>\n",
       "    </tr>\n",
       "  </tbody>\n",
       "</table>\n",
       "</div>"
      ],
      "text/plain": [
       "   index  Year  Month  no_of_trips  Average_fair  Total_fair  \\\n",
       "0      0  2009      1         2462      9.555118    23524.70   \n",
       "1      1  2009      2         2228      9.639856    21477.60   \n",
       "2      2  2009      3         2627     10.085097    26493.55   \n",
       "3      3  2009      4         2496     10.071314    25138.00   \n",
       "4      4  2009      5         2578     10.021703    25835.95   \n",
       "\n",
       "   Average_passenger  Avg_distance  avg_no_of_trips month_year  \n",
       "0           1.662063      3.122949        82.066667    1, 2009  \n",
       "1           1.687612      3.119524        74.266667    2, 2009  \n",
       "2           1.702322      3.252189        87.566667    3, 2009  \n",
       "3           1.644631      3.306771        83.200000    4, 2009  \n",
       "4           1.671451      3.314934        85.933333    5, 2009  "
      ]
     },
     "execution_count": 35,
     "metadata": {},
     "output_type": "execute_result"
    }
   ],
   "source": [
    "# Calculate number of fares based on year and month \n",
    "year_trips = uber_file_df.groupby(['Year','Month']).agg(  \n",
    "    no_of_trips = ('counter','count'),\n",
    "    Average_fair = ('fare_amount','mean'),\n",
    "    Total_fair = ('fare_amount','sum'),\n",
    "    Average_passenger = ('passenger_count','mean'),\n",
    "    Avg_distance = ( 'Distance', 'mean')).reset_index()\n",
    "\n",
    "year_trips['avg_no_of_trips'] = year_trips['no_of_trips']/30\n",
    "\n",
    "year_trips['month_year'] = year_trips['Month'].astype(str) +\", \"+ year_trips['Year'].astype(str)\n",
    "\n",
    "year_trips = year_trips.reset_index()\n",
    "\n",
    "year_trips.head()"
   ]
  },
  {
   "cell_type": "code",
   "execution_count": 53,
   "id": "5db49e8d",
   "metadata": {},
   "outputs": [
    {
     "data": {
      "image/png": "[encoded data removed]",
      "text/plain": [
       "<Figure size 1008x504 with 1 Axes>"
      ]
     },
     "metadata": {
      "needs_background": "light"
     },
     "output_type": "display_data"
    }
   ],
   "source": [
    "plt.figure(figsize=(14,7))\n",
    "x_axis = year_trips[\"month_year\"]\n",
    "y_axis = year_trips[\"no_of_trips\"]\n",
    "\n",
    "plt.xticks(rotation=90)\n",
    "\n",
    "plt.plot(x_axis, y_axis, )\n",
    "\n",
    "plt.show()"
   ]
  },
  {
   "cell_type": "code",
   "execution_count": 26,
   "id": "e5d1f69a",
   "metadata": {},
   "outputs": [],
   "source": [
    "# Define a function to create Linear Regression plots\n",
    "def plot_linear_regression(x_values, y_values, title, text_coordinates):\n",
    "    \n",
    "    \n",
    "    (slope, intercept, rvalue, pvalue, stderr) = linregress(x_values, y_values)\n",
    "    regress_values = x_values * slope + intercept\n",
    "    line_eq = \"y = \" + str(round(slope,2)) + \"x + \" + str(round(intercept,2))\n",
    "\n",
    "    # Plot\n",
    "    plt.scatter(x_values,y_values)\n",
    "    plt.plot(x_values,regress_values,\"r-\")\n",
    "    plt.annotate(line_eq,text_coordinates,fontsize=15,color=\"red\")\n",
    "    plt.xlabel('Average_fair')\n",
    "    plt.ylabel(title)\n",
    "    print(f\"The r-squared is: {rvalue**2}\")\n",
    "    correlation = st.pearsonr(x_values,y_values)\n",
    "    print(f\"The correlation between both factors is {round(correlation[0],2)}\")\n",
    "   \n",
    "    plt.show()\n"
   ]
  },
  {
   "cell_type": "code",
   "execution_count": 27,
   "id": "148e2a15",
   "metadata": {},
   "outputs": [
    {
     "name": "stdout",
     "output_type": "stream",
     "text": [
      "The r-squared is: 0.5378406508727541\n",
      "The correlation between both factors is 0.73\n"
     ]
    },
    {
     "data": {
      "image/png": "[encoded data removed]",
      "text/plain": [
       "<Figure size 432x288 with 1 Axes>"
      ]
     },
     "metadata": {
      "needs_background": "light"
     },
     "output_type": "display_data"
    }
   ],
   "source": [
    "# Avg_distance vs. Average_fair Linear Regression Plot\n",
    "x_values = year_trips[\"Average_fair\"]\n",
    "y_values = year_trips[\"Avg_distance\"]\n",
    "plot_linear_regression(x_values, y_values, 'Avg_distance',(1,20))"
   ]
  },
  {
   "cell_type": "markdown",
   "id": "23bc742f",
   "metadata": {},
   "source": [
    "There is a strong positive correlation between average distance  and average fair amount. \n",
    "This make sense as the distance of trip increase, the price of the trip increase.\n",
    "This suggests price can act as a key decesion making point while booking an uber."
   ]
  },
  {
   "cell_type": "code",
   "execution_count": 28,
   "id": "a15e263e",
   "metadata": {},
   "outputs": [
    {
     "data": {
      "text/plain": [
       "Year\n",
       "2009     9.948071\n",
       "2010    10.082907\n",
       "2011    10.350007\n",
       "2012    11.188282\n",
       "2013    12.668783\n",
       "2014    12.954848\n",
       "Name: fare_amount, dtype: float64"
      ]
     },
     "execution_count": 28,
     "metadata": {},
     "output_type": "execute_result"
    }
   ],
   "source": [
    "average_year_fare = uber_file_df.groupby([\"Year\"]).mean()[\"fare_amount\"]\n",
    "average_year_fare"
   ]
  },
  {
   "cell_type": "code",
   "execution_count": 29,
   "id": "8325b22e",
   "metadata": {},
   "outputs": [
    {
     "data": {
      "text/plain": [
       "Year\n",
       "2009    3.064750\n",
       "2010    3.083310\n",
       "2011    3.098371\n",
       "2012    3.255084\n",
       "2013    3.659310\n",
       "2014    3.735277\n",
       "dtype: float64"
      ]
     },
     "execution_count": 29,
     "metadata": {},
     "output_type": "execute_result"
    }
   ],
   "source": [
    "average_year_dist = uber_file_df.groupby([\"Year\"]).mean()[\"Distance\"]\n",
    "cost_per_km = average_year_fare/ average_year_dist\n",
    "cost_per_km"
   ]
  },
  {
   "cell_type": "code",
   "execution_count": 30,
   "id": "244e0251",
   "metadata": {},
   "outputs": [
    {
     "data": {
      "text/plain": [
       "Text(0, 0.5, 'cost per km')"
      ]
     },
     "execution_count": 30,
     "metadata": {},
     "output_type": "execute_result"
    },
    {
     "data": {
      "image/png": "[encoded data removed]",
      "text/plain": [
       "<Figure size 432x288 with 1 Axes>"
      ]
     },
     "metadata": {
      "needs_background": "light"
     },
     "output_type": "display_data"
    }
   ],
   "source": [
    "plt.plot(cost_per_km)\n",
    "plt.title(\"Cost per km\")\n",
    "plt.xlabel(\"Year\")\n",
    "plt.ylabel(\"cost per km\")"
   ]
  },
  {
   "cell_type": "markdown",
   "id": "c0bc3b4f",
   "metadata": {},
   "source": [
    "we can see an increase of price per km as the years increase, \n",
    "we think that this can be from fuel prices going up and an increase in wages "
   ]
  },
  {
   "cell_type": "code",
   "execution_count": 31,
   "id": "b66303f7",
   "metadata": {},
   "outputs": [
    {
     "name": "stdout",
     "output_type": "stream",
     "text": [
      "The correlation between distance and the fare amount in 2012 is 0.91\n"
     ]
    },
    {
     "data": {
      "image/png": "[encoded data removed]",
      "text/plain": [
       "<Figure size 432x288 with 1 Axes>"
      ]
     },
     "metadata": {
      "needs_background": "light"
     },
     "output_type": "display_data"
    }
   ],
   "source": [
    "year_df = uber_file_df[uber_file_df[\"Year\"] == 2011]\n",
    "x_axis = year_df[\"Distance\"]\n",
    "y_axis = year_df[\"fare_amount\"]\n",
    "correlation = st.pearsonr(x_axis, y_axis)\n",
    "(slope, intercept, rvalue, pvalue, stderr) = linregress(x_axis, y_axis)\n",
    "regress_values = x_axis * slope + intercept\n",
    "line_eq = \"y = \" + str(round(slope,2)) + \"x + \" + str(round(intercept,2))\n",
    "plt.plot(x_axis,regress_values,\"r-\")\n",
    "plt.scatter(x_axis, y_axis, marker=\"o\", edgecolors=\"black\", alpha=0.75)\n",
    "print(f\"The correlation between distance and the fare amount in 2012 is {round(correlation[0],2)}\")"
   ]
  },
  {
   "cell_type": "code",
   "execution_count": 32,
   "id": "054ad24a",
   "metadata": {},
   "outputs": [
    {
     "data": {
      "text/html": [
       "<div>\n",
       "<style scoped>\n",
       "    .dataframe tbody tr th:only-of-type {\n",
       "        vertical-align: middle;\n",
       "    }\n",
       "\n",
       "    .dataframe tbody tr th {\n",
       "        vertical-align: top;\n",
       "    }\n",
       "\n",
       "    .dataframe thead th {\n",
       "        text-align: right;\n",
       "    }\n",
       "</style>\n",
       "<table border=\"1\" class=\"dataframe\">\n",
       "  <thead>\n",
       "    <tr style=\"text-align: right;\">\n",
       "      <th></th>\n",
       "      <th>id</th>\n",
       "      <th>fare_amount</th>\n",
       "      <th>pickup_datetime</th>\n",
       "      <th>pickup_longitude</th>\n",
       "      <th>pickup_latitude</th>\n",
       "      <th>dropoff_longitude</th>\n",
       "      <th>dropoff_latitude</th>\n",
       "      <th>passenger_count</th>\n",
       "      <th>Year</th>\n",
       "      <th>Date</th>\n",
       "      <th>Hour</th>\n",
       "      <th>Month</th>\n",
       "      <th>Day of Week</th>\n",
       "      <th>Day of Week_number</th>\n",
       "      <th>counter</th>\n",
       "      <th>Distance</th>\n",
       "    </tr>\n",
       "  </thead>\n",
       "  <tbody>\n",
       "    <tr>\n",
       "      <th>1</th>\n",
       "      <td>27835199</td>\n",
       "      <td>7.7</td>\n",
       "      <td>2009-07-17 20:04:56+00:00</td>\n",
       "      <td>-73.994355</td>\n",
       "      <td>40.728225</td>\n",
       "      <td>-73.994710</td>\n",
       "      <td>40.750325</td>\n",
       "      <td>1</td>\n",
       "      <td>2009</td>\n",
       "      <td>17</td>\n",
       "      <td>20</td>\n",
       "      <td>7</td>\n",
       "      <td>Fri</td>\n",
       "      <td>4</td>\n",
       "      <td>1</td>\n",
       "      <td>2.5</td>\n",
       "    </tr>\n",
       "    <tr>\n",
       "      <th>2</th>\n",
       "      <td>44984355</td>\n",
       "      <td>12.9</td>\n",
       "      <td>2009-08-24 21:45:00+00:00</td>\n",
       "      <td>-74.005043</td>\n",
       "      <td>40.740770</td>\n",
       "      <td>-73.962565</td>\n",
       "      <td>40.772647</td>\n",
       "      <td>1</td>\n",
       "      <td>2009</td>\n",
       "      <td>24</td>\n",
       "      <td>21</td>\n",
       "      <td>8</td>\n",
       "      <td>Mon</td>\n",
       "      <td>0</td>\n",
       "      <td>1</td>\n",
       "      <td>5.0</td>\n",
       "    </tr>\n",
       "    <tr>\n",
       "      <th>3</th>\n",
       "      <td>25894730</td>\n",
       "      <td>5.3</td>\n",
       "      <td>2009-06-26 08:22:21+00:00</td>\n",
       "      <td>-73.976124</td>\n",
       "      <td>40.790844</td>\n",
       "      <td>-73.965316</td>\n",
       "      <td>40.803349</td>\n",
       "      <td>3</td>\n",
       "      <td>2009</td>\n",
       "      <td>26</td>\n",
       "      <td>8</td>\n",
       "      <td>6</td>\n",
       "      <td>Fri</td>\n",
       "      <td>4</td>\n",
       "      <td>1</td>\n",
       "      <td>1.7</td>\n",
       "    </tr>\n",
       "    <tr>\n",
       "      <th>4</th>\n",
       "      <td>17610152</td>\n",
       "      <td>16.0</td>\n",
       "      <td>2014-08-28 17:47:00+00:00</td>\n",
       "      <td>-73.925023</td>\n",
       "      <td>40.744085</td>\n",
       "      <td>-73.973082</td>\n",
       "      <td>40.761247</td>\n",
       "      <td>5</td>\n",
       "      <td>2014</td>\n",
       "      <td>28</td>\n",
       "      <td>17</td>\n",
       "      <td>8</td>\n",
       "      <td>Thu</td>\n",
       "      <td>3</td>\n",
       "      <td>1</td>\n",
       "      <td>4.5</td>\n",
       "    </tr>\n",
       "    <tr>\n",
       "      <th>6</th>\n",
       "      <td>48725865</td>\n",
       "      <td>24.5</td>\n",
       "      <td>2014-10-12 07:04:00+00:00</td>\n",
       "      <td>-73.961447</td>\n",
       "      <td>40.693965</td>\n",
       "      <td>-73.871195</td>\n",
       "      <td>40.774297</td>\n",
       "      <td>5</td>\n",
       "      <td>2014</td>\n",
       "      <td>12</td>\n",
       "      <td>7</td>\n",
       "      <td>10</td>\n",
       "      <td>Sun</td>\n",
       "      <td>6</td>\n",
       "      <td>1</td>\n",
       "      <td>11.7</td>\n",
       "    </tr>\n",
       "  </tbody>\n",
       "</table>\n",
       "</div>"
      ],
      "text/plain": [
       "         id  fare_amount           pickup_datetime  pickup_longitude  \\\n",
       "1  27835199          7.7 2009-07-17 20:04:56+00:00        -73.994355   \n",
       "2  44984355         12.9 2009-08-24 21:45:00+00:00        -74.005043   \n",
       "3  25894730          5.3 2009-06-26 08:22:21+00:00        -73.976124   \n",
       "4  17610152         16.0 2014-08-28 17:47:00+00:00        -73.925023   \n",
       "6  48725865         24.5 2014-10-12 07:04:00+00:00        -73.961447   \n",
       "\n",
       "   pickup_latitude  dropoff_longitude  dropoff_latitude  passenger_count  \\\n",
       "1        40.728225         -73.994710         40.750325                1   \n",
       "2        40.740770         -73.962565         40.772647                1   \n",
       "3        40.790844         -73.965316         40.803349                3   \n",
       "4        40.744085         -73.973082         40.761247                5   \n",
       "6        40.693965         -73.871195         40.774297                5   \n",
       "\n",
       "   Year  Date  Hour  Month Day of Week  Day of Week_number  counter  Distance  \n",
       "1  2009    17    20      7         Fri                   4        1       2.5  \n",
       "2  2009    24    21      8         Mon                   0        1       5.0  \n",
       "3  2009    26     8      6         Fri                   4        1       1.7  \n",
       "4  2014    28    17      8         Thu                   3        1       4.5  \n",
       "6  2014    12     7     10         Sun                   6        1      11.7  "
      ]
     },
     "execution_count": 32,
     "metadata": {},
     "output_type": "execute_result"
    }
   ],
   "source": [
    "uber_file_df.head()"
   ]
  },
  {
   "cell_type": "code",
   "execution_count": 33,
   "id": "2a02e3d4",
   "metadata": {},
   "outputs": [
    {
     "name": "stdout",
     "output_type": "stream",
     "text": [
      "2009 : 74        19.30\n",
      "99        26.90\n",
      "113       35.30\n",
      "196       24.00\n",
      "223       23.70\n",
      "          ...  \n",
      "199776    36.50\n",
      "199820    19.30\n",
      "199891    31.47\n",
      "199897    33.87\n",
      "199997    30.90\n",
      "Name: fare_amount, Length: 2333, dtype: float64\n",
      "2010 : 204       45.00\n",
      "339       35.70\n",
      "423       37.47\n",
      "427       49.57\n",
      "494       23.70\n",
      "          ...  \n",
      "199757    45.00\n",
      "199805    45.00\n",
      "199882    49.57\n",
      "199885    22.90\n",
      "199972    45.00\n",
      "Name: fare_amount, Length: 2263, dtype: float64\n",
      "2011 : 30        25.7\n",
      "98        30.9\n",
      "205       20.1\n",
      "315       45.0\n",
      "366       49.8\n",
      "          ... \n",
      "199562    32.1\n",
      "199635    20.9\n",
      "199674    49.8\n",
      "199937    28.1\n",
      "199976    49.7\n",
      "Name: fare_amount, Length: 2487, dtype: float64\n",
      "2012 : 82        26.1\n",
      "162       29.0\n",
      "202       23.0\n",
      "226       49.8\n",
      "495       25.7\n",
      "          ... \n",
      "199699    28.1\n",
      "199700    24.1\n",
      "199756    30.0\n",
      "199790    23.7\n",
      "199977    43.5\n",
      "Name: fare_amount, Length: 2506, dtype: float64\n",
      "2013 : 310       39.33\n",
      "348       29.30\n",
      "418       37.50\n",
      "570       57.33\n",
      "610       57.33\n",
      "          ...  \n",
      "199829    38.83\n",
      "199837    26.50\n",
      "199872    41.83\n",
      "199903    33.33\n",
      "199965    34.94\n",
      "Name: fare_amount, Length: 2643, dtype: float64\n",
      "2014 : 34        39.50\n",
      "39        29.00\n",
      "221       29.50\n",
      "401       57.33\n",
      "607       38.83\n",
      "          ...  \n",
      "199710    57.33\n",
      "199747    28.00\n",
      "199914    57.33\n",
      "199923    36.00\n",
      "199982    57.33\n",
      "Name: fare_amount, Length: 2417, dtype: float64\n"
     ]
    }
   ],
   "source": [
    "years_list = [2009, 2010, 2011, 2012, 2013, 2014]\n",
    "\n",
    "dist_list = []\n",
    "for y in years_list:\n",
    "    int_series = uber_file_df.loc[uber_file_df[\"Year\"] == y][\"fare_amount\"]\n",
    "    dist_list.append(int_series)\n",
    "    Q1 = int_series.quantile([.25])[.25]\n",
    "    Q3 = int_series.quantile([.75])[.75]\n",
    "    iqr =  Q3 - Q1\n",
    "    upper_bound = Q3 + 1.5 * iqr\n",
    "    lower_bound = Q1 - 1.5 * iqr\n",
    "    outlier = int_series.loc[(int_series > upper_bound) | (int_series < lower_bound)]\n",
    "    print(y, \":\", outlier)\n"
   ]
  },
  {
   "cell_type": "code",
   "execution_count": 34,
   "id": "deaffc34",
   "metadata": {},
   "outputs": [
    {
     "data": {
      "text/plain": [
       "<function matplotlib.pyplot.show(close=None, block=None)>"
      ]
     },
     "execution_count": 34,
     "metadata": {},
     "output_type": "execute_result"
    },
    {
     "data": {
      "image/png": "[encoded data removed]",
      "text/plain": [
       "<Figure size 432x288 with 1 Axes>"
      ]
     },
     "metadata": {
      "needs_background": "light"
     },
     "output_type": "display_data"
    }
   ],
   "source": [
    "plt.boxplot(dist_list, labels = years_list)\n",
    "plt.show"
   ]
  }
 ],
 "metadata": {
  "kernelspec": {
   "display_name": "Python 3 (ipykernel)",
   "language": "python",
   "name": "python3"
  },
  "language_info": {
   "codemirror_mode": {
    "name": "ipython",
    "version": 3
   },
   "file_extension": ".py",
   "mimetype": "text/x-python",
   "name": "python",
   "nbconvert_exporter": "python",
   "pygments_lexer": "ipython3",
   "version": "3.9.12"
  }
 },
 "nbformat": 4,
 "nbformat_minor": 5
}
